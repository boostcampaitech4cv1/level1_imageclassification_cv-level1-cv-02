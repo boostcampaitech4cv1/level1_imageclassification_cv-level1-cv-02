{
 "cells": [
  {
   "cell_type": "markdown",
   "metadata": {},
   "source": [
    "# DataMaker\n",
    "이 노트북은 train.csv를 읽어서 훈련에 유용한 형태로 변환하여 저장합니다."
   ]
  },
  {
   "cell_type": "markdown",
   "metadata": {},
   "source": [
    "## Import"
   ]
  },
  {
   "cell_type": "code",
   "execution_count": 1,
   "metadata": {},
   "outputs": [],
   "source": [
    "import os\n",
    "import numpy as np\n",
    "import pandas as pd\n",
    "import argparse\n",
    "import sys\n",
    "from tqdm import tqdm\n",
    "sys.path.append('../') # import를 위해 경로추가\n",
    "from utils import Utility as U"
   ]
  },
  {
   "cell_type": "markdown",
   "metadata": {},
   "source": [
    "## Args"
   ]
  },
  {
   "cell_type": "code",
   "execution_count": 2,
   "metadata": {},
   "outputs": [],
   "source": [
    "parser = argparse.ArgumentParser()\n",
    "parser.add_argument('--path_train', type=str, default=\"./data/train/\")\n",
    "parser.add_argument('--path_eval', type=str, default=\"./data/eval/\")\n",
    "parser.add_argument('--path_train_output', type=str, default=\"train_i.csv\")\n",
    "parser.add_argument('--path_eval_output', type=str, default=\"eval_i.csv\")\n",
    "args = parser.parse_args('')"
   ]
  },
  {
   "cell_type": "markdown",
   "metadata": {},
   "source": [
    "## Load Data"
   ]
  },
  {
   "cell_type": "code",
   "execution_count": 3,
   "metadata": {},
   "outputs": [
    {
     "data": {
      "text/html": [
       "<div>\n",
       "<style scoped>\n",
       "    .dataframe tbody tr th:only-of-type {\n",
       "        vertical-align: middle;\n",
       "    }\n",
       "\n",
       "    .dataframe tbody tr th {\n",
       "        vertical-align: top;\n",
       "    }\n",
       "\n",
       "    .dataframe thead th {\n",
       "        text-align: right;\n",
       "    }\n",
       "</style>\n",
       "<table border=\"1\" class=\"dataframe\">\n",
       "  <thead>\n",
       "    <tr style=\"text-align: right;\">\n",
       "      <th></th>\n",
       "      <th>id</th>\n",
       "      <th>gender</th>\n",
       "      <th>race</th>\n",
       "      <th>age</th>\n",
       "      <th>path</th>\n",
       "      <th>images</th>\n",
       "    </tr>\n",
       "  </thead>\n",
       "  <tbody>\n",
       "    <tr>\n",
       "      <th>0</th>\n",
       "      <td>000001</td>\n",
       "      <td>female</td>\n",
       "      <td>Asian</td>\n",
       "      <td>45</td>\n",
       "      <td>000001_female_Asian_45</td>\n",
       "      <td>[./data/train/images/000001_female_Asian_45/ma...</td>\n",
       "    </tr>\n",
       "    <tr>\n",
       "      <th>1</th>\n",
       "      <td>000002</td>\n",
       "      <td>female</td>\n",
       "      <td>Asian</td>\n",
       "      <td>52</td>\n",
       "      <td>000002_female_Asian_52</td>\n",
       "      <td>[./data/train/images/000002_female_Asian_52/ma...</td>\n",
       "    </tr>\n",
       "    <tr>\n",
       "      <th>2</th>\n",
       "      <td>000004</td>\n",
       "      <td>male</td>\n",
       "      <td>Asian</td>\n",
       "      <td>54</td>\n",
       "      <td>000004_male_Asian_54</td>\n",
       "      <td>[./data/train/images/000004_male_Asian_54/mask...</td>\n",
       "    </tr>\n",
       "    <tr>\n",
       "      <th>3</th>\n",
       "      <td>000005</td>\n",
       "      <td>female</td>\n",
       "      <td>Asian</td>\n",
       "      <td>58</td>\n",
       "      <td>000005_female_Asian_58</td>\n",
       "      <td>[./data/train/images/000005_female_Asian_58/ma...</td>\n",
       "    </tr>\n",
       "    <tr>\n",
       "      <th>4</th>\n",
       "      <td>000006</td>\n",
       "      <td>female</td>\n",
       "      <td>Asian</td>\n",
       "      <td>59</td>\n",
       "      <td>000006_female_Asian_59</td>\n",
       "      <td>[./data/train/images/000006_female_Asian_59/ma...</td>\n",
       "    </tr>\n",
       "  </tbody>\n",
       "</table>\n",
       "</div>"
      ],
      "text/plain": [
       "       id  gender   race  age                    path  \\\n",
       "0  000001  female  Asian   45  000001_female_Asian_45   \n",
       "1  000002  female  Asian   52  000002_female_Asian_52   \n",
       "2  000004    male  Asian   54    000004_male_Asian_54   \n",
       "3  000005  female  Asian   58  000005_female_Asian_58   \n",
       "4  000006  female  Asian   59  000006_female_Asian_59   \n",
       "\n",
       "                                              images  \n",
       "0  [./data/train/images/000001_female_Asian_45/ma...  \n",
       "1  [./data/train/images/000002_female_Asian_52/ma...  \n",
       "2  [./data/train/images/000004_male_Asian_54/mask...  \n",
       "3  [./data/train/images/000005_female_Asian_58/ma...  \n",
       "4  [./data/train/images/000006_female_Asian_59/ma...  "
      ]
     },
     "execution_count": 3,
     "metadata": {},
     "output_type": "execute_result"
    }
   ],
   "source": [
    "df_train = pd.read_csv(os.path.join(args.path_train, 'train.csv'))\n",
    "images = []\n",
    "for path in df_train['path']:\n",
    "    __path_folder = os.path.join(*[args.path_train, 'images', path])\n",
    "    __path_image = [os.path.join(*[__path_folder, p])  for p in os.listdir(__path_folder) if p[0] != '.' ]\n",
    "    images.append(__path_image)\n",
    "    \n",
    "df_train['images'] = images\n",
    "\n",
    "df_train.head()\n"
   ]
  },
  {
   "cell_type": "code",
   "execution_count": 7,
   "metadata": {},
   "outputs": [
    {
     "data": {
      "text/html": [
       "<div>\n",
       "<style scoped>\n",
       "    .dataframe tbody tr th:only-of-type {\n",
       "        vertical-align: middle;\n",
       "    }\n",
       "\n",
       "    .dataframe tbody tr th {\n",
       "        vertical-align: top;\n",
       "    }\n",
       "\n",
       "    .dataframe thead th {\n",
       "        text-align: right;\n",
       "    }\n",
       "</style>\n",
       "<table border=\"1\" class=\"dataframe\">\n",
       "  <thead>\n",
       "    <tr style=\"text-align: right;\">\n",
       "      <th></th>\n",
       "      <th>images</th>\n",
       "    </tr>\n",
       "  </thead>\n",
       "  <tbody>\n",
       "    <tr>\n",
       "      <th>0</th>\n",
       "      <td>./data/eval/images/3d1f8f1721367da53bbe5bf3125...</td>\n",
       "    </tr>\n",
       "    <tr>\n",
       "      <th>1</th>\n",
       "      <td>./data/eval/images/d354df341e493f2a45f54bba8f6...</td>\n",
       "    </tr>\n",
       "    <tr>\n",
       "      <th>2</th>\n",
       "      <td>./data/eval/images/8d43a2c9162e48024ef8d5d2d16...</td>\n",
       "    </tr>\n",
       "    <tr>\n",
       "      <th>3</th>\n",
       "      <td>./data/eval/images/6d6aa28eba8f7755524dabac48b...</td>\n",
       "    </tr>\n",
       "    <tr>\n",
       "      <th>4</th>\n",
       "      <td>./data/eval/images/a53d868547b70521f8eee018ebe...</td>\n",
       "    </tr>\n",
       "  </tbody>\n",
       "</table>\n",
       "</div>"
      ],
      "text/plain": [
       "                                              images\n",
       "0  ./data/eval/images/3d1f8f1721367da53bbe5bf3125...\n",
       "1  ./data/eval/images/d354df341e493f2a45f54bba8f6...\n",
       "2  ./data/eval/images/8d43a2c9162e48024ef8d5d2d16...\n",
       "3  ./data/eval/images/6d6aa28eba8f7755524dabac48b...\n",
       "4  ./data/eval/images/a53d868547b70521f8eee018ebe..."
      ]
     },
     "execution_count": 7,
     "metadata": {},
     "output_type": "execute_result"
    }
   ],
   "source": [
    "images = [os.path.join(*[args.path_eval, 'images', p])\n",
    "          for p in os.listdir(os.path.join(*[args.path_eval, 'images'])) if p[0] != '.']\n",
    "df_eval = pd.DataFrame()\n",
    "df_eval['images'] = images\n",
    "\n",
    "df_eval.head()\n"
   ]
  },
  {
   "cell_type": "markdown",
   "metadata": {},
   "source": [
    "## Make Data"
   ]
  },
  {
   "cell_type": "code",
   "execution_count": 9,
   "metadata": {},
   "outputs": [
    {
     "name": "stdout",
     "output_type": "stream",
     "text": [
      "total number of images : 18900.0\n"
     ]
    },
    {
     "data": {
      "text/html": [
       "<div>\n",
       "<style scoped>\n",
       "    .dataframe tbody tr th:only-of-type {\n",
       "        vertical-align: middle;\n",
       "    }\n",
       "\n",
       "    .dataframe tbody tr th {\n",
       "        vertical-align: top;\n",
       "    }\n",
       "\n",
       "    .dataframe thead th {\n",
       "        text-align: right;\n",
       "    }\n",
       "</style>\n",
       "<table border=\"1\" class=\"dataframe\">\n",
       "  <thead>\n",
       "    <tr style=\"text-align: right;\">\n",
       "      <th></th>\n",
       "      <th>gender</th>\n",
       "      <th>age</th>\n",
       "      <th>mask</th>\n",
       "      <th>path</th>\n",
       "      <th>gender_class</th>\n",
       "      <th>age_class</th>\n",
       "      <th>mask_class</th>\n",
       "    </tr>\n",
       "  </thead>\n",
       "  <tbody>\n",
       "    <tr>\n",
       "      <th>0</th>\n",
       "      <td>female</td>\n",
       "      <td>30&lt;=X&lt;60</td>\n",
       "      <td>Wear</td>\n",
       "      <td>./data/train/images/000001_female_Asian_45/mas...</td>\n",
       "      <td>1</td>\n",
       "      <td>1</td>\n",
       "      <td>0</td>\n",
       "    </tr>\n",
       "    <tr>\n",
       "      <th>1</th>\n",
       "      <td>female</td>\n",
       "      <td>30&lt;=X&lt;60</td>\n",
       "      <td>NotWear</td>\n",
       "      <td>./data/train/images/000001_female_Asian_45/nor...</td>\n",
       "      <td>1</td>\n",
       "      <td>1</td>\n",
       "      <td>2</td>\n",
       "    </tr>\n",
       "    <tr>\n",
       "      <th>2</th>\n",
       "      <td>female</td>\n",
       "      <td>30&lt;=X&lt;60</td>\n",
       "      <td>Wear</td>\n",
       "      <td>./data/train/images/000001_female_Asian_45/mas...</td>\n",
       "      <td>1</td>\n",
       "      <td>1</td>\n",
       "      <td>0</td>\n",
       "    </tr>\n",
       "    <tr>\n",
       "      <th>3</th>\n",
       "      <td>female</td>\n",
       "      <td>30&lt;=X&lt;60</td>\n",
       "      <td>Wear</td>\n",
       "      <td>./data/train/images/000001_female_Asian_45/mas...</td>\n",
       "      <td>1</td>\n",
       "      <td>1</td>\n",
       "      <td>0</td>\n",
       "    </tr>\n",
       "    <tr>\n",
       "      <th>4</th>\n",
       "      <td>female</td>\n",
       "      <td>30&lt;=X&lt;60</td>\n",
       "      <td>Incorrect</td>\n",
       "      <td>./data/train/images/000001_female_Asian_45/inc...</td>\n",
       "      <td>1</td>\n",
       "      <td>1</td>\n",
       "      <td>1</td>\n",
       "    </tr>\n",
       "  </tbody>\n",
       "</table>\n",
       "</div>"
      ],
      "text/plain": [
       "   gender       age       mask  \\\n",
       "0  female  30<=X<60       Wear   \n",
       "1  female  30<=X<60    NotWear   \n",
       "2  female  30<=X<60       Wear   \n",
       "3  female  30<=X<60       Wear   \n",
       "4  female  30<=X<60  Incorrect   \n",
       "\n",
       "                                                path  gender_class  age_class  \\\n",
       "0  ./data/train/images/000001_female_Asian_45/mas...             1          1   \n",
       "1  ./data/train/images/000001_female_Asian_45/nor...             1          1   \n",
       "2  ./data/train/images/000001_female_Asian_45/mas...             1          1   \n",
       "3  ./data/train/images/000001_female_Asian_45/mas...             1          1   \n",
       "4  ./data/train/images/000001_female_Asian_45/inc...             1          1   \n",
       "\n",
       "   mask_class  \n",
       "0           0  \n",
       "1           2  \n",
       "2           0  \n",
       "3           0  \n",
       "4           1  "
      ]
     },
     "execution_count": 9,
     "metadata": {},
     "output_type": "execute_result"
    }
   ],
   "source": [
    "image_df_labels = ['gender', 'age', 'mask', 'path']\n",
    "image_df_rows = []\n",
    "for _gender, _age, _images in zip(df_train['gender'], df_train['age'], df_train['images']):\n",
    "    for _path in _images:\n",
    "        _mask = U.ConvertImagePathToMaskStatus(_path)\n",
    "        image_df_rows.append([_gender, U.AgeDecoder(U.AgeEncoder(_age)), _mask, _path])\n",
    "image_df = pd.DataFrame(image_df_rows, columns=image_df_labels)\n",
    "image_df['gender_class'] = [U.GenderEncoder(g.capitalize()) for g in image_df['gender']]\n",
    "image_df['age_class'] = [U.AgeEncoder(a) for a in image_df['age']]\n",
    "image_df['mask_class'] = [U.MaskEncoder(m) for m in image_df['mask']]\n",
    "print('total number of images :', image_df.size / image_df.columns.size)\n",
    "image_df.head()"
   ]
  },
  {
   "cell_type": "code",
   "execution_count": 10,
   "metadata": {},
   "outputs": [],
   "source": [
    "image_df.to_csv(args.path_train_output, index=False)\n",
    "df_eval.to_csv(args.path_eval_output, index=False)"
   ]
  },
  {
   "cell_type": "code",
   "execution_count": null,
   "metadata": {},
   "outputs": [],
   "source": []
  }
 ],
 "metadata": {
  "kernelspec": {
   "display_name": "Python 3.8.5 ('lv1_imageclassification_cv02-bp8_CroY')",
   "language": "python",
   "name": "python3"
  },
  "language_info": {
   "codemirror_mode": {
    "name": "ipython",
    "version": 3
   },
   "file_extension": ".py",
   "mimetype": "text/x-python",
   "name": "python",
   "nbconvert_exporter": "python",
   "pygments_lexer": "ipython3",
   "version": "3.8.5"
  },
  "orig_nbformat": 4,
  "vscode": {
   "interpreter": {
    "hash": "91d8ea8d6396bd984ce00b8d475f8d4a727c919105c6c5c3ef5c5cd176c39a73"
   }
  }
 },
 "nbformat": 4,
 "nbformat_minor": 2
}
