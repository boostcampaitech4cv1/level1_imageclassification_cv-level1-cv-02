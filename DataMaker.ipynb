{
 "cells": [
  {
   "cell_type": "markdown",
   "metadata": {},
   "source": [
    "# DataMaker\n",
    "이 노트북은 train.csv를 읽어서 훈련에 유용한 형태로 변환하여 저장합니다."
   ]
  },
  {
   "cell_type": "markdown",
   "metadata": {},
   "source": [
    "## Import"
   ]
  },
  {
   "cell_type": "code",
   "execution_count": 1,
   "metadata": {},
   "outputs": [],
   "source": [
    "import os\n",
    "import numpy as np\n",
    "import pandas as pd\n",
    "import argparse\n",
    "import sys\n",
    "from tqdm import tqdm\n",
    "sys.path.append('../') # import를 위해 경로추가\n",
    "from utils import Utility as U"
   ]
  },
  {
   "cell_type": "markdown",
   "metadata": {},
   "source": [
    "## Args"
   ]
  },
  {
   "cell_type": "code",
   "execution_count": 2,
   "metadata": {},
   "outputs": [],
   "source": [
    "parser = argparse.ArgumentParser()\n",
    "parser.add_argument('--path_train', type=str, default=\"./data/train/\")\n",
    "parser.add_argument('--path_eval', type=str, default=\"./data/eval/\")\n",
    "parser.add_argument('--path_train_output', type=str, default=\"train_i.csv\")\n",
    "parser.add_argument('--path_eval_output', type=str, default=\"eval_i.csv\")\n",
    "args = parser.parse_args('')"
   ]
  },
  {
   "cell_type": "markdown",
   "metadata": {},
   "source": [
    "## Load Data"
   ]
  },
  {
   "cell_type": "code",
   "execution_count": 3,
   "metadata": {},
   "outputs": [
    {
     "data": {
      "text/html": [
       "<div>\n",
       "<style scoped>\n",
       "    .dataframe tbody tr th:only-of-type {\n",
       "        vertical-align: middle;\n",
       "    }\n",
       "\n",
       "    .dataframe tbody tr th {\n",
       "        vertical-align: top;\n",
       "    }\n",
       "\n",
       "    .dataframe thead th {\n",
       "        text-align: right;\n",
       "    }\n",
       "</style>\n",
       "<table border=\"1\" class=\"dataframe\">\n",
       "  <thead>\n",
       "    <tr style=\"text-align: right;\">\n",
       "      <th></th>\n",
       "      <th>id</th>\n",
       "      <th>gender</th>\n",
       "      <th>race</th>\n",
       "      <th>age</th>\n",
       "      <th>path</th>\n",
       "      <th>images</th>\n",
       "    </tr>\n",
       "  </thead>\n",
       "  <tbody>\n",
       "    <tr>\n",
       "      <th>0</th>\n",
       "      <td>000001</td>\n",
       "      <td>female</td>\n",
       "      <td>Asian</td>\n",
       "      <td>45</td>\n",
       "      <td>000001_female_Asian_45</td>\n",
       "      <td>[./data/train/images/000001_female_Asian_45/ma...</td>\n",
       "    </tr>\n",
       "    <tr>\n",
       "      <th>1</th>\n",
       "      <td>000002</td>\n",
       "      <td>female</td>\n",
       "      <td>Asian</td>\n",
       "      <td>52</td>\n",
       "      <td>000002_female_Asian_52</td>\n",
       "      <td>[./data/train/images/000002_female_Asian_52/ma...</td>\n",
       "    </tr>\n",
       "    <tr>\n",
       "      <th>2</th>\n",
       "      <td>000004</td>\n",
       "      <td>male</td>\n",
       "      <td>Asian</td>\n",
       "      <td>54</td>\n",
       "      <td>000004_male_Asian_54</td>\n",
       "      <td>[./data/train/images/000004_male_Asian_54/mask...</td>\n",
       "    </tr>\n",
       "    <tr>\n",
       "      <th>3</th>\n",
       "      <td>000005</td>\n",
       "      <td>female</td>\n",
       "      <td>Asian</td>\n",
       "      <td>58</td>\n",
       "      <td>000005_female_Asian_58</td>\n",
       "      <td>[./data/train/images/000005_female_Asian_58/ma...</td>\n",
       "    </tr>\n",
       "    <tr>\n",
       "      <th>4</th>\n",
       "      <td>000006</td>\n",
       "      <td>female</td>\n",
       "      <td>Asian</td>\n",
       "      <td>59</td>\n",
       "      <td>000006_female_Asian_59</td>\n",
       "      <td>[./data/train/images/000006_female_Asian_59/ma...</td>\n",
       "    </tr>\n",
       "  </tbody>\n",
       "</table>\n",
       "</div>"
      ],
      "text/plain": [
       "       id  gender   race  age                    path  \\\n",
       "0  000001  female  Asian   45  000001_female_Asian_45   \n",
       "1  000002  female  Asian   52  000002_female_Asian_52   \n",
       "2  000004    male  Asian   54    000004_male_Asian_54   \n",
       "3  000005  female  Asian   58  000005_female_Asian_58   \n",
       "4  000006  female  Asian   59  000006_female_Asian_59   \n",
       "\n",
       "                                              images  \n",
       "0  [./data/train/images/000001_female_Asian_45/ma...  \n",
       "1  [./data/train/images/000002_female_Asian_52/ma...  \n",
       "2  [./data/train/images/000004_male_Asian_54/mask...  \n",
       "3  [./data/train/images/000005_female_Asian_58/ma...  \n",
       "4  [./data/train/images/000006_female_Asian_59/ma...  "
      ]
     },
     "execution_count": 3,
     "metadata": {},
     "output_type": "execute_result"
    }
   ],
   "source": [
    "df_train = pd.read_csv(os.path.join(args.path_train, 'train.csv'))\n",
    "images = []\n",
    "for path in df_train['path']:\n",
    "    __path_folder = os.path.join(*[args.path_train, 'images', path])\n",
    "    __path_image = [os.path.join(*[__path_folder, p])  for p in os.listdir(__path_folder) if p[0] != '.' ]\n",
    "    images.append(__path_image)\n",
    "    \n",
    "df_train['images'] = images\n",
    "\n",
    "df_train.head()\n"
   ]
  },
  {
   "cell_type": "code",
   "execution_count": 5,
   "metadata": {},
   "outputs": [
    {
     "data": {
      "text/html": [
       "<div>\n",
       "<style scoped>\n",
       "    .dataframe tbody tr th:only-of-type {\n",
       "        vertical-align: middle;\n",
       "    }\n",
       "\n",
       "    .dataframe tbody tr th {\n",
       "        vertical-align: top;\n",
       "    }\n",
       "\n",
       "    .dataframe thead th {\n",
       "        text-align: right;\n",
       "    }\n",
       "</style>\n",
       "<table border=\"1\" class=\"dataframe\">\n",
       "  <thead>\n",
       "    <tr style=\"text-align: right;\">\n",
       "      <th></th>\n",
       "      <th>images</th>\n",
       "    </tr>\n",
       "  </thead>\n",
       "  <tbody>\n",
       "    <tr>\n",
       "      <th>0</th>\n",
       "      <td>./data/eval/images/f1bca876363b0bb65be84c2b4d9...</td>\n",
       "    </tr>\n",
       "    <tr>\n",
       "      <th>1</th>\n",
       "      <td>./data/eval/images/2e670348e354160dbebbcec5ec9...</td>\n",
       "    </tr>\n",
       "    <tr>\n",
       "      <th>2</th>\n",
       "      <td>./data/eval/images/2057065ec72010650d1dc2c2871...</td>\n",
       "    </tr>\n",
       "    <tr>\n",
       "      <th>3</th>\n",
       "      <td>./data/eval/images/262fc9157664604bdcf9cf1312b...</td>\n",
       "    </tr>\n",
       "    <tr>\n",
       "      <th>4</th>\n",
       "      <td>./data/eval/images/bba586d2aacf03113478a1e7865...</td>\n",
       "    </tr>\n",
       "  </tbody>\n",
       "</table>\n",
       "</div>"
      ],
      "text/plain": [
       "                                              images\n",
       "0  ./data/eval/images/f1bca876363b0bb65be84c2b4d9...\n",
       "1  ./data/eval/images/2e670348e354160dbebbcec5ec9...\n",
       "2  ./data/eval/images/2057065ec72010650d1dc2c2871...\n",
       "3  ./data/eval/images/262fc9157664604bdcf9cf1312b...\n",
       "4  ./data/eval/images/bba586d2aacf03113478a1e7865..."
      ]
     },
     "execution_count": 5,
     "metadata": {},
     "output_type": "execute_result"
    }
   ],
   "source": [
    "images = [os.path.join(*[args.path_eval, 'images', p])\n",
    "          for p in os.listdir(os.path.join(*[args.path_eval, 'images'])) if p[0] != '.']\n",
    "df_eval = pd.DataFrame()\n",
    "df_eval['images'] = images\n",
    "\n",
    "df_eval.head()\n"
   ]
  },
  {
   "cell_type": "markdown",
   "metadata": {},
   "source": [
    "## Make Data"
   ]
  },
  {
   "cell_type": "code",
   "execution_count": 7,
   "metadata": {},
   "outputs": [
    {
     "name": "stdout",
     "output_type": "stream",
     "text": [
      "total number of images : 18900.0\n"
     ]
    },
    {
     "data": {
      "text/html": [
       "<div>\n",
       "<style scoped>\n",
       "    .dataframe tbody tr th:only-of-type {\n",
       "        vertical-align: middle;\n",
       "    }\n",
       "\n",
       "    .dataframe tbody tr th {\n",
       "        vertical-align: top;\n",
       "    }\n",
       "\n",
       "    .dataframe thead th {\n",
       "        text-align: right;\n",
       "    }\n",
       "</style>\n",
       "<table border=\"1\" class=\"dataframe\">\n",
       "  <thead>\n",
       "    <tr style=\"text-align: right;\">\n",
       "      <th></th>\n",
       "      <th>id</th>\n",
       "      <th>gender</th>\n",
       "      <th>age</th>\n",
       "      <th>mask</th>\n",
       "      <th>path</th>\n",
       "      <th>gender_class</th>\n",
       "      <th>age_class</th>\n",
       "      <th>mask_class</th>\n",
       "    </tr>\n",
       "  </thead>\n",
       "  <tbody>\n",
       "    <tr>\n",
       "      <th>6380</th>\n",
       "      <td>911</td>\n",
       "      <td>male</td>\n",
       "      <td>22</td>\n",
       "      <td>Wear</td>\n",
       "      <td>./data/train/images/001665_male_Asian_22/mask4...</td>\n",
       "      <td>0</td>\n",
       "      <td>0</td>\n",
       "      <td>0</td>\n",
       "    </tr>\n",
       "    <tr>\n",
       "      <th>8940</th>\n",
       "      <td>1277</td>\n",
       "      <td>female</td>\n",
       "      <td>19</td>\n",
       "      <td>Wear</td>\n",
       "      <td>./data/train/images/003289_female_Asian_19/mas...</td>\n",
       "      <td>1</td>\n",
       "      <td>0</td>\n",
       "      <td>0</td>\n",
       "    </tr>\n",
       "    <tr>\n",
       "      <th>17238</th>\n",
       "      <td>2462</td>\n",
       "      <td>female</td>\n",
       "      <td>18</td>\n",
       "      <td>Wear</td>\n",
       "      <td>./data/train/images/006434_female_Asian_18/mas...</td>\n",
       "      <td>1</td>\n",
       "      <td>0</td>\n",
       "      <td>0</td>\n",
       "    </tr>\n",
       "    <tr>\n",
       "      <th>11693</th>\n",
       "      <td>1670</td>\n",
       "      <td>male</td>\n",
       "      <td>57</td>\n",
       "      <td>Wear</td>\n",
       "      <td>./data/train/images/003849_male_Asian_57/mask4...</td>\n",
       "      <td>0</td>\n",
       "      <td>1</td>\n",
       "      <td>0</td>\n",
       "    </tr>\n",
       "    <tr>\n",
       "      <th>119</th>\n",
       "      <td>17</td>\n",
       "      <td>female</td>\n",
       "      <td>58</td>\n",
       "      <td>Wear</td>\n",
       "      <td>./data/train/images/000022_female_Asian_58/mas...</td>\n",
       "      <td>1</td>\n",
       "      <td>1</td>\n",
       "      <td>0</td>\n",
       "    </tr>\n",
       "  </tbody>\n",
       "</table>\n",
       "</div>"
      ],
      "text/plain": [
       "         id  gender  age  mask  \\\n",
       "6380    911    male   22  Wear   \n",
       "8940   1277  female   19  Wear   \n",
       "17238  2462  female   18  Wear   \n",
       "11693  1670    male   57  Wear   \n",
       "119      17  female   58  Wear   \n",
       "\n",
       "                                                    path  gender_class  \\\n",
       "6380   ./data/train/images/001665_male_Asian_22/mask4...             0   \n",
       "8940   ./data/train/images/003289_female_Asian_19/mas...             1   \n",
       "17238  ./data/train/images/006434_female_Asian_18/mas...             1   \n",
       "11693  ./data/train/images/003849_male_Asian_57/mask4...             0   \n",
       "119    ./data/train/images/000022_female_Asian_58/mas...             1   \n",
       "\n",
       "       age_class  mask_class  \n",
       "6380           0           0  \n",
       "8940           0           0  \n",
       "17238          0           0  \n",
       "11693          1           0  \n",
       "119            1           0  "
      ]
     },
     "execution_count": 7,
     "metadata": {},
     "output_type": "execute_result"
    }
   ],
   "source": [
    "image_df_labels = ['id', 'gender', 'age', 'mask', 'path']\n",
    "image_df_rows = []\n",
    "for _id, (_gender, _age, _images) in enumerate(zip(df_train['gender'], df_train['age'], df_train['images'])):\n",
    "    for  _path in _images:\n",
    "        _mask = U.convertImagePathToMaskStatus(_path)\n",
    "        image_df_rows.append(\n",
    "            [_id, _gender, _age, _mask, _path])\n",
    "image_df = pd.DataFrame(image_df_rows, columns=image_df_labels)\n",
    "image_df['gender_class'] = [U.encodeGender(g.capitalize()) for g in image_df['gender']]\n",
    "image_df['age_class'] = [U.encodeAge(a) for a in image_df['age']]\n",
    "image_df['mask_class'] = [U.encodeMask(m) for m in image_df['mask']]\n",
    "print('total number of images :', image_df.size / image_df.columns.size)\n",
    "image_df.sample(5)"
   ]
  },
  {
   "cell_type": "code",
   "execution_count": 10,
   "metadata": {},
   "outputs": [],
   "source": [
    "image_df.to_csv(args.path_train_output, index=False)\n",
    "df_eval.to_csv(args.path_eval_output, index=False)"
   ]
  }
 ],
 "metadata": {
  "kernelspec": {
   "display_name": "Python 3.8.5 ('project-vt2EwfcF': pipenv)",
   "language": "python",
   "name": "python3"
  },
  "language_info": {
   "codemirror_mode": {
    "name": "ipython",
    "version": 3
   },
   "file_extension": ".py",
   "mimetype": "text/x-python",
   "name": "python",
   "nbconvert_exporter": "python",
   "pygments_lexer": "ipython3",
   "version": "3.8.5"
  },
  "orig_nbformat": 4,
  "vscode": {
   "interpreter": {
    "hash": "71bdc61298bf80c1e71c8e2bae6f624e81956b239b32c5dbaee30c7e1f8f8340"
   }
  }
 },
 "nbformat": 4,
 "nbformat_minor": 2
}
