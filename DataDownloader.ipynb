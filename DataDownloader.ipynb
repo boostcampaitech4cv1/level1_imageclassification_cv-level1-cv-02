{
 "cells": [
  {
   "cell_type": "code",
   "execution_count": 2,
   "metadata": {},
   "outputs": [],
   "source": [
    "!wget https://aistages-prod-server-public.s3.amazonaws.com/app/Competitions/000206/data/train.tar.gz\n",
    "!wget https://aistages-prod-server-public.s3.amazonaws.com/app/Competitions/000206/data/code.tar.gz"
   ]
  },
  {
   "cell_type": "code",
   "execution_count": null,
   "metadata": {},
   "outputs": [],
   "source": []
  }
 ],
 "metadata": {
  "kernelspec": {
   "display_name": "Python 3.11.0 ('level1_imageclassification_cv-level1-cv-02-qZekDKph': pipenv)",
   "language": "python",
   "name": "python3"
  },
  "language_info": {
   "codemirror_mode": {
    "name": "ipython",
    "version": 3
   },
   "file_extension": ".py",
   "mimetype": "text/x-python",
   "name": "python",
   "nbconvert_exporter": "python",
   "pygments_lexer": "ipython3",
   "version": "3.11.0"
  },
  "orig_nbformat": 4,
  "vscode": {
   "interpreter": {
    "hash": "199b52f8f0918dc39ca7e0a4843655f467201bd6a1e2da18ef05c2683bb39ca1"
   }
  }
 },
 "nbformat": 4,
 "nbformat_minor": 2
}
