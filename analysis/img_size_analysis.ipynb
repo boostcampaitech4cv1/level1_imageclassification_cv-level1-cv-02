{
 "cells": [
  {
   "cell_type": "code",
   "execution_count": 11,
   "metadata": {},
   "outputs": [],
   "source": [
    "import pandas as pd\n",
    "import numpy as np\n",
    "import matplotlib.pyplot as plt\n",
    "import seaborn as sns\n",
    "import cv2\n",
    "import os\n",
    "import glob\n",
    "import sys\n",
    "import multiprocessing as mp\n",
    "from tqdm import tqdm"
   ]
  },
  {
   "cell_type": "code",
   "execution_count": 12,
   "metadata": {},
   "outputs": [],
   "source": [
    "train_df_path = '../data/train/train.csv'\n",
    "train_path = '../data/train/images/'\n",
    "eval_path = '../data/eval/images/'\n",
    "train_df = pd.read_csv(train_df_path)"
   ]
  },
  {
   "cell_type": "code",
   "execution_count": 25,
   "metadata": {},
   "outputs": [
    {
     "name": "stderr",
     "output_type": "stream",
     "text": [
      "100%|██████████| 2700/2700 [00:05<00:00, 491.95it/s]\n"
     ]
    }
   ],
   "source": [
    "# w_lst = []\n",
    "# h_lst = []\n",
    "# for p in train_df.path.values:\n",
    "#     paths = glob.glob(os.path.join(train_path, p, '*'))\n",
    "#     for path in paths:\n",
    "#         img = cv2.imread(path)\n",
    "#         h, w, c = img.shape\n",
    "#         w_lst.append(w)\n",
    "#         h_lst.append(h)\n",
    "\n",
    "train_paths_list = [glob.glob(os.path.join(train_path, p, '*')) for p in train_df.path.values]\n",
    "def getHWCS(paths:str):\n",
    "    hwc = []\n",
    "    for path in paths:\n",
    "        img = cv2.imread(path)\n",
    "        h, w, c = img.shape\n",
    "        hwc.append([h,w,c])\n",
    "    return hwc\n",
    "pool = mp.Pool(mp.cpu_count())\n",
    "train_hwcsList = pool.map(getHWCS, tqdm(train_paths_list))\n",
    "train_hwcs = np.array([hwc for hwcs in train_hwcsList for hwc in hwcs])\n"
   ]
  },
  {
   "cell_type": "code",
   "execution_count": 26,
   "metadata": {},
   "outputs": [
    {
     "data": {
      "image/png": "[encoded data removed]",
      "text/plain": [
       "<Figure size 640x480 with 1 Axes>"
      ]
     },
     "metadata": {},
     "output_type": "display_data"
    }
   ],
   "source": [
    "sns.scatterplot(\n",
    "    x=train_hwcs[:, 1],\n",
    "    y=train_hwcs[:, 0]\n",
    ")\n",
    "plt.show()"
   ]
  },
  {
   "cell_type": "code",
   "execution_count": 27,
   "metadata": {},
   "outputs": [
    {
     "name": "stdout",
     "output_type": "stream",
     "text": [
      "w : 384.0\n",
      "h : 512.0\n"
     ]
    }
   ],
   "source": [
    "print(f'w : {train_hwcs[:, 1].mean()}')\n",
    "print(f'h : {train_hwcs[:, 0].mean()}')\n"
   ]
  },
  {
   "cell_type": "code",
   "execution_count": 30,
   "metadata": {},
   "outputs": [
    {
     "name": "stderr",
     "output_type": "stream",
     "text": [
      "100%|██████████| 12600/12600 [00:03<00:00, 3431.38it/s]\n"
     ]
    }
   ],
   "source": [
    "eval_paths_list = glob.glob(os.path.join(eval_path, '*'))\n",
    "\n",
    "def getHWC(path: str):\n",
    "    img = cv2.imread(path)\n",
    "    h, w, c = img.shape\n",
    "    return [h, w, c]\n",
    "\n",
    "pool = mp.Pool(mp.cpu_count())\n",
    "eval_hwcsList = pool.map(getHWC, tqdm(eval_paths_list))\n",
    "eval_hwcs = np.array(eval_hwcsList)\n"
   ]
  },
  {
   "cell_type": "code",
   "execution_count": 31,
   "metadata": {},
   "outputs": [
    {
     "data": {
      "image/png": "[encoded data removed]",
      "text/plain": [
       "<Figure size 640x480 with 1 Axes>"
      ]
     },
     "metadata": {},
     "output_type": "display_data"
    }
   ],
   "source": [
    "sns.scatterplot(\n",
    "    x=eval_hwcs[:, 1],\n",
    "    y=eval_hwcs[:, 0]\n",
    ")\n",
    "plt.show()"
   ]
  },
  {
   "cell_type": "code",
   "execution_count": 32,
   "metadata": {},
   "outputs": [
    {
     "name": "stdout",
     "output_type": "stream",
     "text": [
      "w : 384.0\n",
      "h : 512.0\n"
     ]
    }
   ],
   "source": [
    "print(f'w : {eval_hwcs[:, 1].mean()}')\n",
    "print(f'h : {eval_hwcs[:, 0].mean()}')\n"
   ]
  },
  {
   "cell_type": "code",
   "execution_count": null,
   "metadata": {},
   "outputs": [],
   "source": []
  }
 ],
 "metadata": {
  "kernelspec": {
   "display_name": "Python 3.8.5 ('lv1_imageclassification_cv02-bp8_CroY')",
   "language": "python",
   "name": "python3"
  },
  "language_info": {
   "codemirror_mode": {
    "name": "ipython",
    "version": 3
   },
   "file_extension": ".py",
   "mimetype": "text/x-python",
   "name": "python",
   "nbconvert_exporter": "python",
   "pygments_lexer": "ipython3",
   "version": "3.8.5"
  },
  "orig_nbformat": 4,
  "vscode": {
   "interpreter": {
    "hash": "91d8ea8d6396bd984ce00b8d475f8d4a727c919105c6c5c3ef5c5cd176c39a73"
   }
  }
 },
 "nbformat": 4,
 "nbformat_minor": 2
}
