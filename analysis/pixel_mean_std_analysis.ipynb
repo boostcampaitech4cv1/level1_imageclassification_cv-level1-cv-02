{
 "cells": [
  {
   "cell_type": "code",
   "execution_count": 6,
   "metadata": {},
   "outputs": [],
   "source": [
    "import pandas as pd\n",
    "import numpy as np\n",
    "import matplotlib.pyplot as plt\n",
    "import seaborn as sns\n",
    "import cv2\n",
    "import os\n",
    "import glob\n",
    "import sys\n",
    "from tqdm import tqdm\n",
    "sys.path.append('../')"
   ]
  },
  {
   "cell_type": "code",
   "execution_count": 8,
   "metadata": {},
   "outputs": [
    {
     "name": "stderr",
     "output_type": "stream",
     "text": [
      "100%|██████████| 2700/2700 [02:48<00:00, 16.02it/s]"
     ]
    },
    {
     "name": "stdout",
     "output_type": "stream",
     "text": [
      "R - mean: 142.84912575185194, std: 25.110128252411393\n",
      "G - mean: 133.64627702635642, std: 24.40858433130365\n",
      "B - mean: 127.87051157552729, std: 24.741864071778853\n"
     ]
    },
    {
     "name": "stderr",
     "output_type": "stream",
     "text": [
      "\n"
     ]
    }
   ],
   "source": [
    "train_df_path = '../../input/data/train/train.csv'\n",
    "root_path = '../../input/data/train/images/'\n",
    "train_df = pd.read_csv(train_df_path)\n",
    "\n",
    "r_lst = []\n",
    "g_lst = []\n",
    "b_lst = []\n",
    "\n",
    "for p in tqdm(train_df.path.values):\n",
    "    paths = glob.glob(os.path.join(root_path, p, '*'))\n",
    "    for path in paths:\n",
    "        img = cv2.imread(path)\n",
    "        img = cv2.cvtColor(img, cv2.COLOR_BGR2RGB)\n",
    "        rgb_mean = np.mean(img, axis=(0, 1))\n",
    "        r, g, b = rgb_mean\n",
    "        r_lst.append(r)\n",
    "        g_lst.append(g)\n",
    "        b_lst.append(b)\n",
    "\n",
    "print(f'R - mean: {np.mean(r_lst)}, std: {np.std(r_lst)}')\n",
    "print(f'G - mean: {np.mean(g_lst)}, std: {np.std(g_lst)}')\n",
    "print(f'B - mean: {np.mean(b_lst)}, std: {np.std(b_lst)}')"
   ]
  },
  {
   "cell_type": "code",
   "execution_count": 13,
   "metadata": {},
   "outputs": [
    {
     "name": "stdout",
     "output_type": "stream",
     "text": [
      "R - mean: 0.560, std: 0.098\n",
      "G - mean: 0.524, std: 0.096\n",
      "B - mean: 0.501, std: 0.097\n"
     ]
    }
   ],
   "source": [
    "np_r = np.array(r_lst) / 255.\n",
    "np_g = np.array(g_lst) / 255.\n",
    "np_b = np.array(b_lst) / 255.\n",
    "\n",
    "print(f'R - mean: {np.mean(np_r):.3f}, std: {np.std(np_r):.3f}')\n",
    "print(f'G - mean: {np.mean(np_g):.3f}, std: {np.std(np_g):.3f}')\n",
    "print(f'B - mean: {np.mean(np_b):.3f}, std: {np.std(np_b):.3f}')"
   ]
  }
 ],
 "metadata": {
  "kernelspec": {
   "display_name": "Python 3.8.5 ('project-vt2EwfcF': pipenv)",
   "language": "python",
   "name": "python3"
  },
  "language_info": {
   "codemirror_mode": {
    "name": "ipython",
    "version": 3
   },
   "file_extension": ".py",
   "mimetype": "text/x-python",
   "name": "python",
   "nbconvert_exporter": "python",
   "pygments_lexer": "ipython3",
   "version": "3.8.5"
  },
  "orig_nbformat": 4,
  "vscode": {
   "interpreter": {
    "hash": "71bdc61298bf80c1e71c8e2bae6f624e81956b239b32c5dbaee30c7e1f8f8340"
   }
  }
 },
 "nbformat": 4,
 "nbformat_minor": 2
}
